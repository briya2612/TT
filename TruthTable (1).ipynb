{
  "nbformat": 4,
  "nbformat_minor": 0,
  "metadata": {
    "colab": {
      "name": "TruthTable",
      "provenance": [],
      "collapsed_sections": []
    },
    "kernelspec": {
      "name": "python3",
      "display_name": "Python 3"
    },
    "language_info": {
      "name": "python"
    }
  },
  "cells": [
    {
      "cell_type": "code",
      "execution_count": 13,
      "metadata": {
        "colab": {
          "base_uri": "https://localhost:8080/"
        },
        "id": "B1zgXr0XorHA",
        "outputId": "0f34c8bf-a633-430f-8db9-74ad3acfe1a8"
      },
      "outputs": [
        {
          "output_type": "stream",
          "name": "stdout",
          "text": [
            "Overwriting TruthTable.py\n"
          ]
        }
      ],
      "source": [
        "%%writefile TruthTable.py\n",
        "num = 3\n",
        "total = 2**num\n",
        "for a in range(total):\n",
        "  print(bin(a)[2:].zfill(num))\n"
      ]
    },
    {
      "cell_type": "code",
      "source": [
        "!python TruthTable.py"
      ],
      "metadata": {
        "id": "0bQ2921zsHb5",
        "colab": {
          "base_uri": "https://localhost:8080/"
        },
        "outputId": "e7be5b46-ef7f-4f44-8299-bc1a457d8c41"
      },
      "execution_count": 14,
      "outputs": [
        {
          "output_type": "stream",
          "name": "stdout",
          "text": [
            "000\n",
            "001\n",
            "010\n",
            "011\n",
            "100\n",
            "101\n",
            "110\n",
            "111\n"
          ]
        }
      ]
    },
    {
      "cell_type": "code",
      "source": [
        "%%writefile -a TruthTable.py\n",
        "\n",
        "print('Appended something new to file')"
      ],
      "metadata": {
        "id": "ChH8_8jOsH4u",
        "colab": {
          "base_uri": "https://localhost:8080/"
        },
        "outputId": "b1e50a5e-90f8-413b-e8ac-2ffec2ca7358"
      },
      "execution_count": 15,
      "outputs": [
        {
          "output_type": "stream",
          "name": "stdout",
          "text": [
            "Appending to TruthTable.py\n"
          ]
        }
      ]
    },
    {
      "cell_type": "code",
      "source": [
        "!python TruthTable.py"
      ],
      "metadata": {
        "colab": {
          "base_uri": "https://localhost:8080/"
        },
        "id": "2RxvAkior3aV",
        "outputId": "45221e04-248a-4986-e980-37b86296325c"
      },
      "execution_count": 16,
      "outputs": [
        {
          "output_type": "stream",
          "name": "stdout",
          "text": [
            "000\n",
            "001\n",
            "010\n",
            "011\n",
            "100\n",
            "101\n",
            "110\n",
            "111\n",
            "Appended something new to file\n"
          ]
        }
      ]
    },
    {
      "cell_type": "code",
      "source": [
        ""
      ],
      "metadata": {
        "id": "vvICs9mvo7Aq"
      },
      "execution_count": null,
      "outputs": []
    },
    {
      "cell_type": "code",
      "source": [
        ""
      ],
      "metadata": {
        "id": "22NmDGl6pi7n"
      },
      "execution_count": null,
      "outputs": []
    }
  ]
}